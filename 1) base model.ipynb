{
 "cells": [
  {
   "cell_type": "code",
   "execution_count": 2,
   "id": "d78b45d6",
   "metadata": {},
   "outputs": [],
   "source": [
    "import numpy as np\n",
    "import pandas as pd\n",
    "from tqdm import tqdm\n",
    "import pymysql\n",
    "import os\n",
    "import time\n",
    "import datetime"
   ]
  },
  {
   "cell_type": "code",
   "execution_count": 3,
   "id": "3c931b71",
   "metadata": {},
   "outputs": [],
   "source": [
    "db_dsml = pymysql.connect(\n",
    "    host = 'localhost', \n",
    "    port = 3306, \n",
    "    user = 'stock_user', \n",
    "    passwd = 'bigdata', \n",
    "    db = 'refined_stock', \n",
    "    charset = 'utf8'\n",
    ")\n",
    "\n",
    "cursor = db_dsml.cursor()"
   ]
  },
  {
   "cell_type": "markdown",
   "id": "3be569b0",
   "metadata": {},
   "source": [
    "# 데이터 생성"
   ]
  },
  {
   "cell_type": "markdown",
   "id": "0b539d50",
   "metadata": {},
   "source": [
    "거래대금 조건을 만족하는 날짜 선정"
   ]
  },
  {
   "cell_type": "code",
   "execution_count": 4,
   "id": "ad3bc7b0",
   "metadata": {},
   "outputs": [
    {
     "name": "stderr",
     "output_type": "stream",
     "text": [
      "1561it [02:19, 11.20it/s]\n"
     ]
    }
   ],
   "source": [
    "dic_code2date = {}\n",
    "OF = open('code_list.txt', 'r')\n",
    "for code in tqdm(OF):\n",
    "    sql_query = '''\n",
    "                SELECT *\n",
    "                FROM stock_{}\n",
    "                WHERE Date\n",
    "                BETWEEN '2017-12-01' AND '2021-12-31'\n",
    "                '''.format(code)\n",
    "    code = code[:-1]\n",
    "    code\n",
    "    stock = pd.read_sql(sql = sql_query, con = db_dsml)\n",
    "    lst_stock = stock.values.tolist()\n",
    "    \n",
    "    for row in lst_stock:\n",
    "        date, close, volume = row[0].date().strftime('%Y%m%d'), row[4], row[5]\n",
    "        trading_value = close * volume\n",
    "        if trading_value >= 10000000000:   # 거래대금 임계값 : 100억\n",
    "            if code not in dic_code2date.keys():\n",
    "                dic_code2date[code] = []\n",
    "                dic_code2date[code].append(date)\n",
    "            else:\n",
    "                dic_code2date[code].append(date)"
   ]
  },
  {
   "cell_type": "markdown",
   "id": "d9ad49fc",
   "metadata": {},
   "source": [
    "## train 데이터 생성"
   ]
  },
  {
   "cell_type": "markdown",
   "id": "6c565f6d",
   "metadata": {},
   "source": [
    "설명변수: 거래대금 조건을 만족한 날짜 기준으로 D-9 ~D-0 open, high, low, close, trading_value (10일치)"
   ]
  },
  {
   "cell_type": "markdown",
   "id": "022b913a",
   "metadata": {},
   "source": [
    "종속변수: D+1 change 2% 상승 여부"
   ]
  },
  {
   "cell_type": "code",
   "execution_count": 14,
   "id": "d1a560f6",
   "metadata": {},
   "outputs": [
    {
     "name": "stderr",
     "output_type": "stream",
     "text": [
      "100%|███████████████████████████████████████| 1530/1530 [01:43<00:00, 14.80it/s]\n"
     ]
    }
   ],
   "source": [
    "OF = open('train.txt', 'w')\n",
    "for code in tqdm(dic_code2date.keys()):\n",
    "    sql_query = '''\n",
    "                SELECT *\n",
    "                FROM stock_{}\n",
    "                WHERE Date\n",
    "                BETWEEN '2018-01-01' AND '2020-12-31'\n",
    "                '''.format(code)\n",
    "    stock = pd.read_sql(sql = sql_query, con = db_dsml)\n",
    "    stock=stock[['Date','Open','High','Low','Close','Volume','Change']] # Date, Open, High, Low, Close, Volume, Change 값만 슬라이싱\n",
    "    lst_stock = stock.values.tolist()      \n",
    "    \n",
    "    for i,row in enumerate(lst_stock):\n",
    "        #예외 처리 \n",
    "        if (i < 9) or (i >= len(lst_stock)-1): \n",
    "            continue\n",
    "        \n",
    "        date = row[0].strftime('%Y%m%d')\n",
    "        \n",
    "        if date not in dic_code2date[code]:\n",
    "            continue\n",
    "  \n",
    "        sub_stock = lst_stock[i-9:i+1] # D-9 ~ D-0일\n",
    "        result=[]\n",
    "        \n",
    "        for row2 in sub_stock:\n",
    "            open_, high, low, close, volume = row2[1:6]\n",
    "            trading_value = close*volume\n",
    "            result += [open_, high, low, close, trading_value]\n",
    "\n",
    "        result = ','.join(map(str,result))\n",
    "        ratio = str(int(lst_stock[i+1][-1]>=0.02)) # 라벨: 종가 2% 상승 여부 (1,0)\n",
    "    \n",
    "        OF.write('\\t'.join(map(str,[code, date, result, ratio]))+ '\\n')\n",
    "OF.close()"
   ]
  },
  {
   "cell_type": "markdown",
   "id": "50523aaf",
   "metadata": {},
   "source": [
    "##  test 데이터 생성"
   ]
  },
  {
   "cell_type": "markdown",
   "id": "0bfa111b",
   "metadata": {},
   "source": [
    "설명변수: 거래대금 조건을 만족한 날짜 기준으로 D-9 ~D-0 open, high, low, close, trading_value (10일치)"
   ]
  },
  {
   "cell_type": "markdown",
   "id": "3964f995",
   "metadata": {},
   "source": [
    "종속변수: D+1 change 2% 상승 여부"
   ]
  },
  {
   "cell_type": "code",
   "execution_count": 17,
   "id": "6a1cb709",
   "metadata": {},
   "outputs": [
    {
     "name": "stderr",
     "output_type": "stream",
     "text": [
      "100%|███████████████████████████████████████| 1530/1530 [00:25<00:00, 61.00it/s]\n"
     ]
    }
   ],
   "source": [
    "OF = open('test.txt', 'w', encoding = 'utf-8')\n",
    "for code in tqdm(dic_code2date.keys()):\n",
    "    sql_query = '''\n",
    "                SELECT *\n",
    "                FROM stock_{}\n",
    "                WHERE Date\n",
    "                BETWEEN '2021-01-01' AND '2021-06-31'\n",
    "                '''.format(code)\n",
    "    stock = pd.read_sql(sql = sql_query, con = db_dsml)\n",
    "    stock = stock[['Date','Open','High','Low','Close','Volume','Change']] # Date, Open, High, Low, Close, Volume, Change 값만 슬라이싱\n",
    "    lst_stock = stock.values.tolist()      \n",
    "    \n",
    "    for i,row in enumerate(lst_stock):\n",
    "        #예외 처리 \n",
    "        if (i < 9) or (i >= len(lst_stock)-1): \n",
    "            continue\n",
    "        \n",
    "        date = row[0].strftime('%Y%m%d')\n",
    "        \n",
    "        if date not in dic_code2date[code]:\n",
    "            continue\n",
    "  \n",
    "        sub_stock = lst_stock[i-9:i+1] # D-9 ~ D-0일\n",
    "        pred_price=lst_stock[i+1][-1] #다음날 종가 상승율\n",
    "        \n",
    "        result=[]\n",
    "        for row2 in sub_stock:\n",
    "            open_, high, low, close, volume = row2[1:6]\n",
    "            trading_value = close*volume\n",
    "            result += [open_, high, low, close, trading_value]\n",
    "\n",
    "        result = ','.join(map(str,result))\n",
    "        ratio = str(int(lst_stock[i+1][-1]>=0.02)) # 라벨: 종가 2% 상승 여부 (1,0)\n",
    "    \n",
    "        OF.write('\\t'.join(map(str,[code, date, result, ratio]))+ '\\n')\n",
    "OF.close()"
   ]
  },
  {
   "cell_type": "markdown",
   "id": "45334863",
   "metadata": {},
   "source": [
    "# 데이터셋 생성"
   ]
  },
  {
   "cell_type": "markdown",
   "id": "6ba0bd35",
   "metadata": {},
   "source": [
    "- train dataset"
   ]
  },
  {
   "cell_type": "code",
   "execution_count": 15,
   "id": "5cef7ee3",
   "metadata": {},
   "outputs": [],
   "source": [
    "IF=open(\"train.txt\",'r')\n",
    "lst_code_date_train=[]\n",
    "trainX=[]\n",
    "trainY=[]\n",
    "for line in IF:\n",
    "    code, date, x, y = line.strip().split(\"\\t\")\n",
    "    lst_code_date_train.append([code, date])\n",
    "    trainX.append(list(map(float, x.split(\",\"))))\n",
    "    trainY.append(int(y))\n",
    "trainX=np.array(trainX)\n",
    "trainY=np.array(trainY)"
   ]
  },
  {
   "cell_type": "markdown",
   "id": "24238828",
   "metadata": {},
   "source": [
    "- test dataset"
   ]
  },
  {
   "cell_type": "code",
   "execution_count": 21,
   "id": "0d548874",
   "metadata": {},
   "outputs": [],
   "source": [
    "IF=open(\"test.txt\",'r')\n",
    "lst_code_date_test=[]\n",
    "testX=[]\n",
    "testY=[]\n",
    "for line in IF:\n",
    "    code, date, x, y = line.strip().split(\"\\t\")\n",
    "    lst_code_date_test.append([code, date])\n",
    "    testX.append(list(map(float, x.split(\",\"))))\n",
    "    testY.append(int(y))\n",
    "testX=np.array(testX)\n",
    "testY=np.array(testY)"
   ]
  },
  {
   "cell_type": "markdown",
   "id": "efe5b459",
   "metadata": {},
   "source": [
    "# 모델"
   ]
  },
  {
   "cell_type": "code",
   "execution_count": 23,
   "id": "cd3d8f96",
   "metadata": {},
   "outputs": [
    {
     "name": "stdout",
     "output_type": "stream",
     "text": [
      "[19:07:31] WARNING: ../src/learner.cc:1115: Starting in XGBoost 1.3.0, the default evaluation metric used with the objective 'binary:logistic' was changed from 'error' to 'logloss'. Explicitly set eval_metric if you'd like to restore the old behavior.\n"
     ]
    }
   ],
   "source": [
    "from xgboost import XGBClassifier\n",
    "\n",
    "xgb = XGBClassifier()\n",
    "xgb.fit(trainX, trainY)\n",
    "predY_prob = xgb.predict_proba(testX) #다음날 종가 상승 예측 확률적으로 나타내줌\n",
    "predY = xgb.predict(testX) #다음날 종가 상승 예측을 0,1로 나타내줌"
   ]
  },
  {
   "cell_type": "markdown",
   "id": "4d3a0b73",
   "metadata": {},
   "source": [
    "- 모델 평가지표 확인"
   ]
  },
  {
   "cell_type": "code",
   "execution_count": 32,
   "id": "4ef513b0",
   "metadata": {},
   "outputs": [
    {
     "name": "stdout",
     "output_type": "stream",
     "text": [
      "accuracy Score:  0.7828186155472389\n",
      "ROC AUC Score:  0.5010411878777162\n"
     ]
    }
   ],
   "source": [
    "from sklearn.metrics import accuracy_score, roc_auc_score\n",
    "acc=accuracy_score(testY, predY)\n",
    "print('accuracy Score: ', acc) \n",
    "\n",
    "roc_score = roc_auc_score(testY, predY)\n",
    "print('ROC AUC Score: ', roc_score) "
   ]
  },
  {
   "cell_type": "markdown",
   "id": "6991c7d9",
   "metadata": {},
   "source": [
    "# 수익률 계산"
   ]
  },
  {
   "cell_type": "markdown",
   "id": "2f2c57a5",
   "metadata": {},
   "source": [
    "- 주문일지 작성: 예측한 값이 1(상승)일 확률이 높을수록 많은 양 매수\n",
    "- 확률 임계값과 매수량은 임의로 생성"
   ]
  },
  {
   "cell_type": "code",
   "execution_count": 27,
   "id": "5c0e1eea",
   "metadata": {},
   "outputs": [],
   "source": [
    "lst_output=[]\n",
    "for (code, date), y in zip(lst_code_date_test, predY_prob):\n",
    "    if y[1] >= 0.9: \n",
    "        lst_output.append([code, date, \"buy\", \"all\"])  \n",
    "        lst_output.append([code, date+\"n\", \"sell\", \"all\"])  \n",
    "    elif y[1] >= 0.7: \n",
    "        lst_output.append([code, date, \"buy\", \"r40\"])  \n",
    "        lst_output.append([code, date+\"n\", \"sell\", \"all\"]) \n",
    "    elif y[1] >= 0.6: \n",
    "        lst_output.append([code, date, \"buy\", \"r20\"])  \n",
    "        lst_output.append([code, date+\"n\", \"sell\", \"all\"])  \n",
    "    elif y[1] >= 0.5: \n",
    "        lst_output.append([code, date, \"buy\", \"r10\"])  \n",
    "        lst_output.append([code, date+\"n\", \"sell\", \"all\"]) \n",
    "\n",
    "\n",
    "\n",
    "lst_output.sort(key=lambda x:x[1]) \n",
    "OF=open(\"order.txt\", 'w') \n",
    "for row in lst_output:\n",
    "    OF.write(\"\\t\".join(map(str, row))+\"\\n\")\n",
    "OF.close()"
   ]
  },
  {
   "cell_type": "markdown",
   "id": "2c26d0a6",
   "metadata": {},
   "source": [
    "- 주문일지(order.txt)를 받아서 수익률을 계산"
   ]
  },
  {
   "cell_type": "code",
   "execution_count": 31,
   "id": "695b92b8",
   "metadata": {},
   "outputs": [
    {
     "name": "stdout",
     "output_type": "stream",
     "text": [
      "Final earning rate : 9.70026 %\n"
     ]
    }
   ],
   "source": [
    "start_money = 10000000 # 초기 현금 1천만원\n",
    "money = start_money\n",
    "dic_code2num ={}  # 보유 종목\n",
    "\n",
    "IF=open(\"order.txt\",'r')\n",
    "for i, line in enumerate(IF): #주문 일지를 한 줄 읽어 옴\n",
    "    code, date, request, amount = line.strip().split(\"\\t\")\n",
    "    sql_query = '''\n",
    "                SELECT *\n",
    "                FROM stock_{}\n",
    "                WHERE Date\n",
    "                BETWEEN '2021-01-01' AND '2021-06-31'\n",
    "                '''.format(code)\n",
    "    stock = pd.read_sql(sql = sql_query, con = db_dsml)\n",
    "    lst_stock = stock.values.tolist()\n",
    "            \n",
    "    if 'n' in date:\n",
    "        for id,row in enumerate(lst_stock):\n",
    "            Date=row[0].strftime(\"%Y%m%d\")\n",
    "            if Date==date.rstrip('n'):\n",
    "                next_close=lst_stock[id+1][4]\n",
    "    else:\n",
    "        for row1 in(lst_stock):\n",
    "            Date=row1[0].strftime(\"%Y%m%d\")\n",
    "            if Date==date:\n",
    "                today_close=row1[4]\n",
    "            \n",
    "    if request == 'buy': # buy인 경우\n",
    "        if amount.startswith('r'):\n",
    "            request_money = money * float(amount.lstrip(\"r\")) / 100\n",
    "        elif amount == 'all':\n",
    "            request_money = money\n",
    "        elif amount.isdigit():\n",
    "            request_money = int(amount)\n",
    "        # elif amount == ~~~~~    ##### 기타 필요한 매수 요청 옵션이 있을 시 작성\n",
    "        else:\n",
    "            raise Exception('Not permitted option')\n",
    "        request_money = min(request_money, money)\n",
    "        buy_num = int(request_money / today_close)\n",
    "        money -= buy_num * today_close  # 현재 금액(money)을 실제 매수액을 뺀 만큼 업데이트\n",
    "        if code not in dic_code2num:\n",
    "            dic_code2num[code] = 0\n",
    "        dic_code2num[code] += buy_num # 보유 종목 데이터에 구매 종목(code)를 매수 개수 만큼 증가\n",
    "    if request == 'sell': # sell인 경우\n",
    "        if amount == 'all':\n",
    "            sell_num = dic_code2num[code]\n",
    "        # elif amount == ~~~~~    ##### 기타 필요한 매도 요청 옵션이 있을 시 작성\n",
    "        else:\n",
    "            raise Exception('Not permitted option')            \n",
    "        money += sell_num * next_close\n",
    "        dic_code2num[code] -= sell_num\n",
    "        if dic_code2num[code] == 0:\n",
    "            del dic_code2num[code]\n",
    "IF.close()            \n",
    "            \n",
    "if dic_code2num != {}: # 매매가 종료되었는데 보유 종목이 있으면\n",
    "    raise Exception('Not empty stock') \n",
    "\n",
    "print(\"Final earning rate : {} %\".format(str((money-start_money) / start_money * 100)))"
   ]
  }
 ],
 "metadata": {
  "kernelspec": {
   "display_name": "Python 3 (ipykernel)",
   "language": "python",
   "name": "python3"
  },
  "language_info": {
   "codemirror_mode": {
    "name": "ipython",
    "version": 3
   },
   "file_extension": ".py",
   "mimetype": "text/x-python",
   "name": "python",
   "nbconvert_exporter": "python",
   "pygments_lexer": "ipython3",
   "version": "3.8.2"
  },
  "toc": {
   "base_numbering": 1,
   "nav_menu": {},
   "number_sections": true,
   "sideBar": true,
   "skip_h1_title": false,
   "title_cell": "Table of Contents",
   "title_sidebar": "Contents",
   "toc_cell": false,
   "toc_position": {},
   "toc_section_display": true,
   "toc_window_display": false
  }
 },
 "nbformat": 4,
 "nbformat_minor": 5
}
