{
 "cells": [
  {
   "cell_type": "code",
   "execution_count": 1,
   "id": "7de225ef",
   "metadata": {},
   "outputs": [
    {
     "name": "stdout",
     "output_type": "stream",
     "text": [
      "Populating the interactive namespace from numpy and matplotlib\n"
     ]
    }
   ],
   "source": [
    "import pickle\n",
    "import sklearn.metrics as metrics\n",
    "from sklearn.metrics import accuracy_score\n",
    "from sklearn.preprocessing import MinMaxScaler\n",
    "import numpy as np\n",
    "import pandas as pd\n",
    "from tqdm import tqdm\n",
    "from sklearn import preprocessing\n",
    "import pandas as pd\n",
    "import os\n",
    "import time, os\n",
    "import pymysql\n",
    "import matplotlib.pyplot as plt\n",
    "import FinanceDataReader as fdr\n",
    "import ta\n",
    "import warnings\n",
    "\n",
    "pd.set_option('display.max_columns', 100)\n",
    "pd.set_option('display.max_rows', 600)\n",
    "\n",
    "warnings.filterwarnings(action='ignore')\n",
    "\n",
    "\n",
    "\n",
    "%matplotlib inline\n",
    "%pylab inline\n",
    "pylab.rcParams['figure.figsize'] = (15,7)"
   ]
  },
  {
   "cell_type": "markdown",
   "id": "40017f41",
   "metadata": {},
   "source": [
    " # 평가지표 함수"
   ]
  },
  {
   "cell_type": "code",
   "execution_count": 8,
   "id": "35dd4692",
   "metadata": {},
   "outputs": [],
   "source": [
    "def plot_roc_curve(trainY, testY, train_pred, test_pred, train_prob, test_prob):\n",
    "    from sklearn.metrics import roc_curve, roc_auc_score, f1_score, f1_score, accuracy_score, recall_score, precision_score\n",
    "    \n",
    "    fpr, tpr, thresholds = roc_curve(testY, test_prob) # output 3개가 나오는데, 각 threshhold 마다의 fpr, tpr값 인듯\n",
    "    \n",
    "    train_f1 = f1_score(trainY, train_pred)\n",
    "    test_f1 = f1_score(testY, test_pred)\n",
    "    \n",
    "    train_recall = recall_score(trainY, train_pred)\n",
    "    test_recall = recall_score(testY, test_pred)\n",
    "    \n",
    "    train_pre = precision_score(trainY, train_pred)\n",
    "    test_pre = precision_score(testY, test_pred)  \n",
    "    \n",
    "    train_acc = accuracy_score(trainY, train_pred)\n",
    "    test_acc = accuracy_score(testY, test_pred)\n",
    "    \n",
    "    plt.plot(fpr, tpr, color='red', label='ROC')\n",
    "    plt.plot([0, 1], [0, 1], color='green', linestyle='--')\n",
    "    plt.xlabel('False Positive Rate')\n",
    "    plt.ylabel('True Positive Rate')\n",
    "    plt.title('test ROC : {}'.format(round(roc_auc_score(testY, test_prob),3)),fontsize=25)\n",
    "    plt.legend()\n",
    "    plt.show()\n",
    "    print('train_f1 score: ',train_f1)\n",
    "    print('test_f1 score: ',test_f1,'\\n')\n",
    "    \n",
    "    print('train_recall score: ',train_recall)\n",
    "    print('test_recall score: ',test_recall,'\\n')\n",
    "\n",
    "    print('train_pre score: ',train_pre)\n",
    "    print('test_pre score: ',test_pre,'\\n')\n",
    "    \n",
    "    print('train acc score: ',train_acc)\n",
    "    print('test acc score: ',test_acc, '\\n')"
   ]
  },
  {
   "cell_type": "markdown",
   "id": "cb070b37",
   "metadata": {},
   "source": [
    "#  스케일링 방법: 전날 종가로 나누기"
   ]
  },
  {
   "cell_type": "markdown",
   "id": "b1279c6a",
   "metadata": {},
   "source": [
    "- 가격관련 컬럼들만 전날 종가로 나누어서 스케일링"
   ]
  },
  {
   "cell_type": "markdown",
   "id": "c2646c00",
   "metadata": {},
   "source": [
    "## train 데이터 생성 함수"
   ]
  },
  {
   "cell_type": "code",
   "execution_count": 2,
   "id": "87ad9937",
   "metadata": {},
   "outputs": [],
   "source": [
    "def make_data_train(trading, days, label): \n",
    "    # traiding: 거래대금 임계값, days: 일 수, label: next_chang 임계 값\n",
    "    \n",
    "    # 코드 리스트 \n",
    "    IF=open(\"code_list.txt\", 'r')\n",
    "    lst_code = IF.readlines()\n",
    "    \n",
    "    # trainX, trainY\n",
    "    lst_trainX = []\n",
    "    lst_trainY = []\n",
    "    \n",
    "    # database\n",
    "    db_dsml = pymysql.connect(\n",
    "        host = 'localhost', \n",
    "        port = 3306, \n",
    "        user = 'stock_user', \n",
    "        passwd = 'bigdata', \n",
    "        db = 'refined_stock', \n",
    "        charset = 'utf8'\n",
    "    )\n",
    "    cursor = db_dsml.cursor()\n",
    "    \n",
    "    \n",
    "    col_scaling = ['Open', 'High', 'Low', 'Close', 'Trading', 'MA5', 'MA20', 'MA60', 'MA120', \n",
    "               'VMAP', 'BHB', 'BLB', 'KCH', 'KCL', 'KCM', 'DCH', 'DCL', 'DCM',\n",
    "               'SMA', 'EMA', 'WMA', 'Ichimoku', 'Parabolic SAR', 'KAMA','MACD']   \n",
    "\n",
    "    col_no_scaling = ['Change', 'Volume', 'MFI', 'ADI', 'OBV','CMF', 'FI', 'EOM, EMV', \n",
    "                      'VPT', 'NVI', 'ATR', 'UI', 'ADX', '-VI', '+VI', 'TRIX', 'MI', \n",
    "                      'CCI', 'DPO', 'KST', 'STC', 'RSI', 'SRSI', 'TSI', 'UO', 'SR',\n",
    "                       'WR', 'AO', 'ROC', 'PPO', 'PVO']\n",
    "       \n",
    "    for line in tqdm(lst_code): \n",
    "        code = line.strip()\n",
    "        sql_query = '''\n",
    "                    SELECT *\n",
    "                    FROM stock_{}\n",
    "                    WHERE Date BETWEEN '2017-12-28' AND '2020-12-31'\n",
    "                    '''.format(code)\n",
    "\n",
    "        stock = pd.read_sql(sql=sql_query, con=db_dsml)\n",
    "        stock['BeforeClose'] = stock['Close'].shift(1) # 전날 종가 컬럼 추가\n",
    "        stock.dropna(inplace=True) # nan 제거 \n",
    "        lst_stock = stock.values.tolist()\n",
    "        \n",
    "        # scaling 필요 컬럼: 전날 종가로 나누어 스케일링\n",
    "        stock['Trading'] = stock['Close'] * stock['Volume'] # 거래대금 컬럼 추가 \n",
    "        scale_stock = stock[col_scaling].apply(lambda x: x/stock['BeforeClose'])\n",
    "        lst_scale = scale_stock.values.tolist()\n",
    "\n",
    "        # sclaling 필요x 컬럼 \n",
    "        no_scale_stock = stock[col_no_scaling]\n",
    "        lst_no_scale = no_scale_stock.values.tolist()        \n",
    "        \n",
    "        for i, row in enumerate(lst_stock): \n",
    "            date, close, volume, ma20 = row[0].strftime('%Y%m%d'), row[4], row[5], row[9]\n",
    "            # 거래대금, 이동평균선 범위 조건\n",
    "            if (close * volume >= trading) :\n",
    "                if i < (days-1):   # 예외 처리 \n",
    "                    continue                               \n",
    "\n",
    "                result=[]\n",
    "                for row2, row3 in zip(lst_scale[i-(days-1):i+1], lst_no_scale[i-(days-1):i+1]):  # scaling, no scaling \n",
    "                    result += row2+row3 # scaling + no scaling                 \n",
    "                y = int(row[7]>=label) # next change 사용   \n",
    "                \n",
    "                lst_trainX.append(result)\n",
    "                lst_trainY.append(y)\n",
    "    \n",
    "    return np.array(lst_trainX), np.array(lst_trainY)"
   ]
  },
  {
   "cell_type": "markdown",
   "id": "378692b8",
   "metadata": {},
   "source": [
    "## test 데이터 생성 함수"
   ]
  },
  {
   "cell_type": "code",
   "execution_count": 7,
   "id": "b6cb2d24",
   "metadata": {},
   "outputs": [],
   "source": [
    "def make_data_test(trading, days, label): \n",
    "    # traiding: 거래대금 임계값, days: 일 수, label: next_chang 임계 값\n",
    "    \n",
    "    # 코드 리스트 \n",
    "    IF=open(\"code_list.txt\", 'r')\n",
    "    lst_code = IF.readlines()\n",
    "    \n",
    "    # testX, testY\n",
    "    lst_testX = []\n",
    "    lst_testY = []\n",
    "    \n",
    "    # database\n",
    "    db_dsml = pymysql.connect(\n",
    "        host = 'localhost', \n",
    "        port = 3306, \n",
    "        user = 'stock_user', \n",
    "        passwd = 'bigdata', \n",
    "        db = 'refined_stock', \n",
    "        charset = 'utf8'\n",
    "    )\n",
    "    cursor = db_dsml.cursor()\n",
    "    \n",
    "    \n",
    "    col_scaling = ['Open', 'High', 'Low', 'Close', 'Trading', 'MA5', 'MA20', 'MA60', 'MA120', \n",
    "               'VMAP', 'BHB', 'BLB', 'KCH', 'KCL', 'KCM', 'DCH', 'DCL', 'DCM',\n",
    "               'SMA', 'EMA', 'WMA', 'Ichimoku', 'Parabolic SAR', 'KAMA','MACD']   \n",
    "\n",
    "    col_no_scaling = ['Change', 'Volume', 'MFI', 'ADI', 'OBV','CMF', 'FI', 'EOM, EMV', \n",
    "                      'VPT', 'NVI', 'ATR', 'UI', 'ADX', '-VI', '+VI', 'TRIX', 'MI', \n",
    "                      'CCI', 'DPO', 'KST', 'STC', 'RSI', 'SRSI', 'TSI', 'UO', 'SR',\n",
    "                       'WR', 'AO', 'ROC', 'PPO', 'PVO']\n",
    "       \n",
    "    for line in tqdm(lst_code): \n",
    "        code = line.strip()\n",
    "        sql_query = '''\n",
    "                    SELECT *\n",
    "                    FROM stock_{}\n",
    "                    WHERE Date BETWEEN '2020-12-30' AND '2021-06-31'\n",
    "                    '''.format(code)\n",
    "\n",
    "        stock = pd.read_sql(sql=sql_query, con=db_dsml)\n",
    "        stock['BeforeClose'] = stock['Close'].shift(1) # 전날 종가 컬럼 추가\n",
    "        stock.dropna(inplace=True) # nan 제거 \n",
    "        lst_stock = stock.values.tolist()\n",
    "        \n",
    "        # scaling 필요 컬럼: 전날 종가로 나누어 스케일링\n",
    "        stock['Trading'] = stock['Close'] * stock['Volume'] # 거래대금 컬럼 추가 \n",
    "        scale_stock = stock[col_scaling].apply(lambda x: x/stock['BeforeClose'])\n",
    "        lst_scale = scale_stock.values.tolist()\n",
    "\n",
    "        # sclaling 필요x 컬럼 \n",
    "        no_scale_stock = stock[col_no_scaling]\n",
    "        lst_no_scale = no_scale_stock.values.tolist()        \n",
    "        \n",
    "        for i, row in enumerate(lst_stock): \n",
    "            date, close, volume, ma20 = row[0].strftime('%Y%m%d'), row[4], row[5], row[9]\n",
    "            # 거래대금, 이동평균선 범위 조건\n",
    "            if (close * volume >= trading) :\n",
    "                if i < (days-1):   # 예외 처리 \n",
    "                    continue                               \n",
    "\n",
    "                result=[]\n",
    "                for row2, row3 in zip(lst_scale[i-(days-1):i+1], lst_no_scale[i-(days-1):i+1]):  # scaling, no scaling \n",
    "                    result += row2+row3 # scaling + no scaling                 \n",
    "                y = int(row[7]>=label) # next change 사용   \n",
    "                \n",
    "                lst_testX.append(result)\n",
    "                lst_testY.append(y)\n",
    "    \n",
    "    return np.array(lst_testX), np.array(lst_testY)"
   ]
  },
  {
   "cell_type": "markdown",
   "id": "aab579fc",
   "metadata": {},
   "source": [
    "## 데이터 생성"
   ]
  },
  {
   "cell_type": "code",
   "execution_count": 9,
   "id": "b964110c",
   "metadata": {},
   "outputs": [
    {
     "name": "stderr",
     "output_type": "stream",
     "text": [
      "100%|███████████████████████████████████████| 1561/1561 [02:13<00:00, 11.66it/s]\n",
      "100%|███████████████████████████████████████| 1561/1561 [00:35<00:00, 43.43it/s]\n"
     ]
    }
   ],
   "source": [
    "trainX, trainY = make_data_train(trading=1000000000, days=10, label=0.02)\n",
    "testX, testY = make_data_test(trading=1000000000, days=10, label=0.02)"
   ]
  },
  {
   "cell_type": "markdown",
   "id": "3930e217",
   "metadata": {},
   "source": [
    "## 평가지표 확인"
   ]
  },
  {
   "cell_type": "code",
   "execution_count": 11,
   "id": "13728004",
   "metadata": {},
   "outputs": [
    {
     "name": "stdout",
     "output_type": "stream",
     "text": [
      "[19:08:19] WARNING: ../src/learner.cc:1115: Starting in XGBoost 1.3.0, the default evaluation metric used with the objective 'binary:logistic' was changed from 'error' to 'logloss'. Explicitly set eval_metric if you'd like to restore the old behavior.\n"
     ]
    }
   ],
   "source": [
    "from xgboost import XGBClassifier\n",
    "\n",
    "xgb = XGBClassifier(n_jobs=30)\n",
    "\n",
    "xgb.fit(trainX, trainY)\n",
    "\n",
    "train_prob = xgb.predict_proba(trainX)[:, 1]\n",
    "train_pred = xgb.predict(trainX)\n",
    "test_prob = xgb.predict_proba(testX)[:, 1]\n",
    "test_pred = xgb.predict(testX)"
   ]
  },
  {
   "cell_type": "code",
   "execution_count": 12,
   "id": "0c488e36",
   "metadata": {},
   "outputs": [
    {
     "data": {
      "image/png": "[encoded data removed]",
      "text/plain": [
       "<Figure size 1080x504 with 1 Axes>"
      ]
     },
     "metadata": {
      "needs_background": "light"
     },
     "output_type": "display_data"
    },
    {
     "name": "stdout",
     "output_type": "stream",
     "text": [
      "train_f1 score:  0.19925841274017317\n",
      "test_f1 score:  0.026037828543355443 \n",
      "\n",
      "train_recall score:  0.11236184259327943\n",
      "test_recall score:  0.01347914547304171 \n",
      "\n",
      "train_pre score:  0.8791990132772256\n",
      "test_pre score:  0.381294964028777 \n",
      "\n",
      "train acc score:  0.810181720379812\n",
      "test acc score:  0.8025218105902764 \n",
      "\n"
     ]
    }
   ],
   "source": [
    "plot_roc_curve(trainY, testY, train_pred, test_pred, train_prob, test_prob)"
   ]
  },
  {
   "cell_type": "markdown",
   "id": "227a82d7",
   "metadata": {},
   "source": [
    "# 스케일링 방법: min-max"
   ]
  },
  {
   "cell_type": "markdown",
   "id": "10f123e9",
   "metadata": {},
   "source": [
    "- 가격관련 컬럼들만 min max 스케일링"
   ]
  },
  {
   "cell_type": "markdown",
   "id": "2c6faa91",
   "metadata": {},
   "source": [
    "## train 데이터 생성 함수"
   ]
  },
  {
   "cell_type": "code",
   "execution_count": 20,
   "id": "50929268",
   "metadata": {},
   "outputs": [],
   "source": [
    "def make_data_train(trading, days, label): \n",
    "    # traiding: 거래대금 임계값, days: 일 수, label: next_chang 임계 값\n",
    "    \n",
    "    # 코드 리스트 \n",
    "    IF=open(\"code_list.txt\", 'r')\n",
    "    lst_code = IF.readlines()\n",
    "    \n",
    "    # trainX, trainY\n",
    "    lst_trainX = []\n",
    "    lst_trainY = []\n",
    "    \n",
    "    # database\n",
    "    db_dsml = pymysql.connect(\n",
    "        host = 'localhost', \n",
    "        port = 3306, \n",
    "        user = 'stock_user', \n",
    "        passwd = 'bigdata', \n",
    "        db = 'refined_stock', \n",
    "        charset = 'utf8'\n",
    "    )\n",
    "    cursor = db_dsml.cursor()\n",
    "    \n",
    "    \n",
    "    col_scaling = ['Open', 'High', 'Low', 'Close', 'Trading', 'MA5', 'MA20', 'MA60', 'MA120', \n",
    "               'VMAP', 'BHB', 'BLB', 'KCH', 'KCL', 'KCM', 'DCH', 'DCL', 'DCM',\n",
    "               'SMA', 'EMA', 'WMA', 'Ichimoku', 'Parabolic SAR', 'KAMA','MACD']   \n",
    "\n",
    "    col_no_scaling = ['Change', 'Volume', 'MFI', 'ADI', 'OBV','CMF', 'FI', 'EOM, EMV', \n",
    "                      'VPT', 'NVI', 'ATR', 'UI', 'ADX', '-VI', '+VI', 'TRIX', 'MI', \n",
    "                      'CCI', 'DPO', 'KST', 'STC', 'RSI', 'SRSI', 'TSI', 'UO', 'SR',\n",
    "                       'WR', 'AO', 'ROC', 'PPO', 'PVO']\n",
    "       \n",
    "    for line in tqdm(lst_code): \n",
    "        code = line.strip()\n",
    "        sql_query = '''\n",
    "                    SELECT *\n",
    "                    FROM stock_{}\n",
    "                    WHERE Date BETWEEN '2017-12-28' AND '2020-12-31'\n",
    "                    '''.format(code)\n",
    "\n",
    "        stock = pd.read_sql(sql=sql_query, con=db_dsml)\n",
    "        stock.dropna(inplace=True) # nan 제거 \n",
    "        lst_stock = stock.values.tolist()\n",
    "        \n",
    "        # scaling 필요 컬럼: min-max 스케일링\n",
    "        stock['Trading'] = stock['Close'] * stock['Volume'] # 거래대금 컬럼 추가\n",
    "        scaler = MinMaxScaler()\n",
    "        scale_stock = scaler.fit_transform(stock[col_scaling])\n",
    "        scale_stock = pd.DataFrame(scale_stock, columns=col_scaling)\n",
    "        lst_scale = scale_stock.values.tolist()\n",
    "\n",
    "        # sclaling 필요x 컬럼 \n",
    "        no_scale_stock = stock[col_no_scaling]\n",
    "        lst_no_scale = no_scale_stock.values.tolist()        \n",
    "        \n",
    "        for i, row in enumerate(lst_stock): \n",
    "            date, close, volume, ma20 = row[0].strftime('%Y%m%d'), row[4], row[5], row[9]\n",
    "            # 거래대금, 이동평균선 범위 조건\n",
    "            if (close * volume >= trading) :\n",
    "                if i < (days-1):   # 예외 처리 \n",
    "                    continue                               \n",
    "\n",
    "                result=[]\n",
    "                for row2, row3 in zip(lst_scale[i-(days-1):i+1], lst_no_scale[i-(days-1):i+1]):  # scaling, no scaling \n",
    "                    result += row2+row3 # scaling + no scaling                 \n",
    "                y = int(row[7]>=label) # next change 사용   \n",
    "                \n",
    "                lst_trainX.append(result)\n",
    "                lst_trainY.append(y)\n",
    "    \n",
    "    return np.array(lst_trainX), np.array(lst_trainY)"
   ]
  },
  {
   "cell_type": "markdown",
   "id": "071c8222",
   "metadata": {},
   "source": [
    "## test 데이터 생성 함수"
   ]
  },
  {
   "cell_type": "code",
   "execution_count": 22,
   "id": "6c0881f9",
   "metadata": {},
   "outputs": [],
   "source": [
    "def make_data_test(trading, days, label): \n",
    "    # traiding: 거래대금 임계값, days: 일 수, label: next_chang 임계 값\n",
    "    \n",
    "    # 코드 리스트 \n",
    "    IF=open(\"code_list.txt\", 'r')\n",
    "    lst_code = IF.readlines()\n",
    "    \n",
    "    # testX, testY\n",
    "    lst_testX = []\n",
    "    lst_testY = []\n",
    "    \n",
    "    # database\n",
    "    db_dsml = pymysql.connect(\n",
    "        host = 'localhost', \n",
    "        port = 3306, \n",
    "        user = 'stock_user', \n",
    "        passwd = 'bigdata', \n",
    "        db = 'refined_stock', \n",
    "        charset = 'utf8'\n",
    "    )\n",
    "    cursor = db_dsml.cursor()\n",
    "    \n",
    "    \n",
    "    col_scaling = ['Open', 'High', 'Low', 'Close', 'Trading', 'MA5', 'MA20', 'MA60', 'MA120', \n",
    "               'VMAP', 'BHB', 'BLB', 'KCH', 'KCL', 'KCM', 'DCH', 'DCL', 'DCM',\n",
    "               'SMA', 'EMA', 'WMA', 'Ichimoku', 'Parabolic SAR', 'KAMA','MACD']   \n",
    "\n",
    "    col_no_scaling = ['Change', 'Volume', 'MFI', 'ADI', 'OBV','CMF', 'FI', 'EOM, EMV', \n",
    "                      'VPT', 'NVI', 'ATR', 'UI', 'ADX', '-VI', '+VI', 'TRIX', 'MI', \n",
    "                      'CCI', 'DPO', 'KST', 'STC', 'RSI', 'SRSI', 'TSI', 'UO', 'SR',\n",
    "                       'WR', 'AO', 'ROC', 'PPO', 'PVO']\n",
    "       \n",
    "    for line in tqdm(lst_code): \n",
    "        code = line.strip()\n",
    "        sql_query = '''\n",
    "                    SELECT *\n",
    "                    FROM stock_{}\n",
    "                    WHERE Date BETWEEN '2020-12-30' AND '2021-06-31'\n",
    "                    '''.format(code)\n",
    "\n",
    "        stock = pd.read_sql(sql=sql_query, con=db_dsml)\n",
    "        stock.dropna(inplace=True) # nan 제거 \n",
    "        lst_stock = stock.values.tolist()\n",
    "        \n",
    "        # scaling 필요 컬럼: min-max 스케일링\n",
    "        stock['Trading'] = stock['Close'] * stock['Volume'] # 거래대금 컬럼 추가\n",
    "        scaler = MinMaxScaler()\n",
    "        scale_stock = scaler.fit_transform(stock[col_scaling])\n",
    "        scale_stock = pd.DataFrame(scale_stock, columns=col_scaling)\n",
    "        lst_scale = scale_stock.values.tolist()\n",
    "\n",
    "        # sclaling 필요x 컬럼 \n",
    "        no_scale_stock = stock[col_no_scaling]\n",
    "        lst_no_scale = no_scale_stock.values.tolist()        \n",
    "        \n",
    "        for i, row in enumerate(lst_stock): \n",
    "            date, close, volume, ma20 = row[0].strftime('%Y%m%d'), row[4], row[5], row[9]\n",
    "            # 거래대금, 이동평균선 범위 조건\n",
    "            if (close * volume >= trading) :\n",
    "                if i < (days-1):   # 예외 처리 \n",
    "                    continue                               \n",
    "\n",
    "                result=[]\n",
    "                for row2, row3 in zip(lst_scale[i-(days-1):i+1], lst_no_scale[i-(days-1):i+1]):  # scaling, no scaling \n",
    "                    result += row2+row3 # scaling + no scaling                 \n",
    "                y = int(row[7]>=label) # next change 사용   \n",
    "                \n",
    "                lst_testX.append(result)\n",
    "                lst_testY.append(y)\n",
    "    \n",
    "    return np.array(lst_testX), np.array(lst_testY)"
   ]
  },
  {
   "cell_type": "markdown",
   "id": "6268116e",
   "metadata": {},
   "source": [
    "## 데이터 생성"
   ]
  },
  {
   "cell_type": "code",
   "execution_count": 23,
   "id": "8bcc720f",
   "metadata": {},
   "outputs": [
    {
     "name": "stderr",
     "output_type": "stream",
     "text": [
      "100%|███████████████████████████████████████| 1561/1561 [02:13<00:00, 11.66it/s]\n",
      "100%|███████████████████████████████████████| 1561/1561 [00:34<00:00, 45.82it/s]\n"
     ]
    }
   ],
   "source": [
    "trainX, trainY = make_data_train(trading=1000000000, days=10, label=0.02)\n",
    "testX, testY = make_data_test(trading=1000000000, days=10, label=0.02)"
   ]
  },
  {
   "cell_type": "markdown",
   "id": "2f6ea292",
   "metadata": {},
   "source": [
    "## 평가지표 확인"
   ]
  },
  {
   "cell_type": "code",
   "execution_count": 28,
   "id": "4f921d3a",
   "metadata": {},
   "outputs": [
    {
     "name": "stdout",
     "output_type": "stream",
     "text": [
      "[19:55:21] WARNING: ../src/learner.cc:1115: Starting in XGBoost 1.3.0, the default evaluation metric used with the objective 'binary:logistic' was changed from 'error' to 'logloss'. Explicitly set eval_metric if you'd like to restore the old behavior.\n"
     ]
    }
   ],
   "source": [
    "from xgboost import XGBClassifier\n",
    "\n",
    "xgb = XGBClassifier(n_jobs=30)\n",
    "\n",
    "xgb.fit(trainX, trainY)\n",
    "\n",
    "train_prob = xgb.predict_proba(trainX)[:, 1]\n",
    "train_pred = xgb.predict(trainX)\n",
    "test_prob = xgb.predict_proba(testX)[:, 1]\n",
    "test_pred = xgb.predict(testX)"
   ]
  },
  {
   "cell_type": "code",
   "execution_count": 29,
   "id": "8d2ef9f9",
   "metadata": {},
   "outputs": [
    {
     "data": {
      "image/png": "[encoded data removed]",
      "text/plain": [
       "<Figure size 1080x504 with 1 Axes>"
      ]
     },
     "metadata": {
      "needs_background": "light"
     },
     "output_type": "display_data"
    },
    {
     "name": "stdout",
     "output_type": "stream",
     "text": [
      "train_f1 score:  0.18456367504739513\n",
      "test_f1 score:  0.13396952211865662 \n",
      "\n",
      "train_recall score:  0.10315756353069648\n",
      "test_recall score:  0.07634263552820167 \n",
      "\n",
      "train_pre score:  0.8753042795445622\n",
      "test_pre score:  0.5464695232347616 \n",
      "\n",
      "train acc score:  0.8083084066861149\n",
      "test acc score:  0.8073254828383571 \n",
      "\n"
     ]
    }
   ],
   "source": [
    "plot_roc_curve(trainY, testY, train_pred, test_pred, train_prob, test_prob)"
   ]
  },
  {
   "cell_type": "markdown",
   "id": "6402095b",
   "metadata": {},
   "source": [
    "# 결과"
   ]
  },
  {
   "cell_type": "markdown",
   "id": "cef48da6",
   "metadata": {},
   "source": [
    "roc의 결과는 min-max scaling 방법이 더 좋지만 다른 평가지표의 결과는 전날 종가로 나누는 방법이 더 좋음. 전체적으로 종목코드의 각 날짜마다 전날 종가로 나누는 방법이 min-max 방법보다 오류가 적고 성능도 안정적인 방법이라고 판단. 스케일링 방법은 전날 종가로 나누는 방법으로 결정"
   ]
  }
 ],
 "metadata": {
  "kernelspec": {
   "display_name": "Python 3 (ipykernel)",
   "language": "python",
   "name": "python3"
  },
  "language_info": {
   "codemirror_mode": {
    "name": "ipython",
    "version": 3
   },
   "file_extension": ".py",
   "mimetype": "text/x-python",
   "name": "python",
   "nbconvert_exporter": "python",
   "pygments_lexer": "ipython3",
   "version": "3.8.2"
  },
  "toc": {
   "base_numbering": 1,
   "nav_menu": {},
   "number_sections": true,
   "sideBar": true,
   "skip_h1_title": false,
   "title_cell": "Table of Contents",
   "title_sidebar": "Contents",
   "toc_cell": false,
   "toc_position": {},
   "toc_section_display": true,
   "toc_window_display": false
  }
 },
 "nbformat": 4,
 "nbformat_minor": 5
}
